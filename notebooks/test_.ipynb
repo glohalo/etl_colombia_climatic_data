{
 "cells": [
  {
   "cell_type": "code",
   "execution_count": 1,
   "metadata": {},
   "outputs": [],
   "source": [
    "import time\n",
    "import os\n",
    "import subprocess\n",
    "import pandas as pd\n",
    "\n",
    "from datetime import timedelta, datetime\n",
    "from selenium import webdriver\n",
    "from selenium.webdriver.common.by import By\n",
    "from selenium.webdriver.support.ui import WebDriverWait\n",
    "from selenium.webdriver.support import expected_conditions as EC\n",
    "from selenium.common.exceptions import (\n",
    "    ElementNotInteractableException,\n",
    "    NoSuchElementException,\n",
    "    TimeoutException,\n",
    "    ElementClickInterceptedException,\n",
    "   # FileNotFoundError,\n",
    "    NoSuchWindowException,\n",
    "    UnexpectedAlertPresentException,\n",
    "    SessionNotCreatedException\n",
    ")\n",
    "from zipfile import ZipFile\n",
    "import logging\n",
    "# Configure logging\n",
    "logging.basicConfig(level=logging.INFO, format='%(asctime)s - %(levelname)s - %(message)s')\n"
   ]
  },
  {
   "cell_type": "code",
   "execution_count": 2,
   "metadata": {},
   "outputs": [],
   "source": [
    "import sys\n",
    "import os\n",
    "sys.path.append(os.path.abspath(os.path.join('..')))\n",
    "\n",
    "from src.data_extraction import handle_terms_and_conditions_and_download\n",
    "\n"
   ]
  },
  {
   "cell_type": "code",
   "execution_count": 3,
   "metadata": {},
   "outputs": [
    {
     "data": {
      "text/plain": [
       "'24/12/2024'"
      ]
     },
     "execution_count": 3,
     "metadata": {},
     "output_type": "execute_result"
    }
   ],
   "source": [
    "current = datetime.today()\n",
    "_ = current - timedelta(days=20)\n",
    "formated_fin_time = _.strftime(\"%d/%m/%Y\")\n",
    "formated_fin_time"
   ]
  },
  {
   "cell_type": "code",
   "execution_count": 4,
   "metadata": {},
   "outputs": [
    {
     "name": "stdout",
     "output_type": "stream",
     "text": [
      "Initializing the Chrome driver...\n",
      "Waiting for the checkbox (Términos y condiciones) to be clickable...\n"
     ]
    },
    {
     "name": "stderr",
     "output_type": "stream",
     "text": [
      "2025-01-13 09:33:27,109 - INFO - Attempt 1: Starting hydrometeorological data download process.\n",
      "2025-01-13 09:33:27,110 - INFO - Selecting variable.\n"
     ]
    },
    {
     "name": "stdout",
     "output_type": "stream",
     "text": [
      "Checkbox displayed: True, enabled: True\n",
      "Checkbox clicked successfully using JavaScript.\n",
      "'Aceptar' button displayed: True, enabled: True\n",
      "'Aceptar' button clicked successfully using JavaScript.\n",
      "Terms accepted successfully...\n",
      "Starting to download the variables.\n",
      "Selected variable: Temperatura\n"
     ]
    },
    {
     "name": "stderr",
     "output_type": "stream",
     "text": [
      "2025-01-13 09:33:44,734 - INFO - Step 3: Selecting parameter.\n",
      "2025-01-13 09:33:45,880 - WARNING - Attempt 1 failed. Retrying... Error: Message: element not interactable\n",
      "  (Session info: chrome=131.0.6778.265)\n",
      "Stacktrace:\n",
      "0   chromedriver                        0x000000010497e138 cxxbridge1$str$ptr + 3653888\n",
      "1   chromedriver                        0x0000000104976988 cxxbridge1$str$ptr + 3623248\n",
      "2   chromedriver                        0x00000001043dc7d8 cxxbridge1$string$len + 88828\n",
      "3   chromedriver                        0x0000000104421cf0 cxxbridge1$string$len + 372756\n",
      "4   chromedriver                        0x0000000104417470 cxxbridge1$string$len + 329620\n",
      "5   chromedriver                        0x0000000104416ec4 cxxbridge1$string$len + 328168\n",
      "6   chromedriver                        0x000000010445a4f0 cxxbridge1$string$len + 604180\n",
      "7   chromedriver                        0x0000000104415564 cxxbridge1$string$len + 321672\n",
      "8   chromedriver                        0x00000001044161b4 cxxbridge1$string$len + 324824\n",
      "9   chromedriver                        0x0000000104948fc0 cxxbridge1$str$ptr + 3436424\n",
      "10  chromedriver                        0x000000010494c2dc cxxbridge1$str$ptr + 3449508\n",
      "11  chromedriver                        0x000000010492fe60 cxxbridge1$str$ptr + 3333672\n",
      "12  chromedriver                        0x000000010494cb9c cxxbridge1$str$ptr + 3451748\n",
      "13  chromedriver                        0x0000000104921678 cxxbridge1$str$ptr + 3274304\n",
      "14  chromedriver                        0x00000001049672b4 cxxbridge1$str$ptr + 3560060\n",
      "15  chromedriver                        0x0000000104967430 cxxbridge1$str$ptr + 3560440\n",
      "16  chromedriver                        0x00000001049765fc cxxbridge1$str$ptr + 3622340\n",
      "17  libsystem_pthread.dylib             0x0000000180fe6034 _pthread_start + 136\n",
      "18  libsystem_pthread.dylib             0x0000000180fe0e3c thread_start + 8\n",
      "\n",
      "2025-01-13 09:33:47,886 - ERROR - Max retries reached. Failed to complete the download process.\n"
     ]
    },
    {
     "ename": "Exception",
     "evalue": "Max retries reached. Failed to complete the download process.",
     "output_type": "error",
     "traceback": [
      "\u001b[0;31m---------------------------------------------------------------------------\u001b[0m",
      "\u001b[0;31mException\u001b[0m                                 Traceback (most recent call last)",
      "Cell \u001b[0;32mIn[4], line 4\u001b[0m\n\u001b[1;32m      2\u001b[0m \u001b[38;5;28;01mwhile\u001b[39;00m \u001b[38;5;28;01mTrue\u001b[39;00m:\n\u001b[1;32m      3\u001b[0m     \u001b[38;5;28;01mtry\u001b[39;00m:\n\u001b[0;32m----> 4\u001b[0m         \u001b[43mhandle_terms_and_conditions_and_download\u001b[49m\u001b[43m(\u001b[49m\n\u001b[1;32m      5\u001b[0m \u001b[43m            \u001b[49m\u001b[43mpath\u001b[49m\u001b[38;5;241;43m=\u001b[39;49m\u001b[38;5;124;43m\"\u001b[39;49m\u001b[38;5;124;43m/Users/gloriacarrascal/master/research_data/dm_project/data/bronze\u001b[39;49m\u001b[38;5;124;43m\"\u001b[39;49m\u001b[43m,\u001b[49m\n\u001b[1;32m      6\u001b[0m \u001b[43m            \u001b[49m\u001b[43mvariable\u001b[49m\u001b[38;5;241;43m=\u001b[39;49m\u001b[38;5;124;43m\"\u001b[39;49m\u001b[38;5;124;43mTemperatura\u001b[39;49m\u001b[38;5;124;43m\"\u001b[39;49m\u001b[43m,\u001b[49m\n\u001b[1;32m      7\u001b[0m \u001b[43m            \u001b[49m\u001b[43mparam\u001b[49m\u001b[38;5;241;43m=\u001b[39;49m\u001b[38;5;124;43m'\u001b[39;49m\u001b[38;5;124;43mTemperatura máxima diaria\u001b[39;49m\u001b[38;5;124;43m'\u001b[39;49m\u001b[43m,\u001b[49m\n\u001b[1;32m      8\u001b[0m \u001b[43m            \u001b[49m\u001b[43mdepartamento\u001b[49m\u001b[38;5;241;43m=\u001b[39;49m\u001b[38;5;124;43m\"\u001b[39;49m\u001b[38;5;124;43mAtlantico\u001b[39;49m\u001b[38;5;124;43m\"\u001b[39;49m\u001b[43m,\u001b[49m\n\u001b[1;32m      9\u001b[0m \u001b[43m            \u001b[49m\u001b[43mcode\u001b[49m\u001b[38;5;241;43m=\u001b[39;49m\u001b[38;5;124;43m\"\u001b[39;49m\u001b[38;5;124;43m29035080\u001b[39;49m\u001b[38;5;124;43m\"\u001b[39;49m\u001b[43m,\u001b[49m\n\u001b[1;32m     10\u001b[0m \u001b[43m            \u001b[49m\u001b[43mdate_ini\u001b[49m\u001b[38;5;241;43m=\u001b[39;49m\u001b[38;5;124;43m\"\u001b[39;49m\u001b[38;5;124;43m01/01/2000\u001b[39;49m\u001b[38;5;124;43m\"\u001b[39;49m\u001b[43m,\u001b[49m\n\u001b[1;32m     11\u001b[0m \u001b[43m            \u001b[49m\u001b[43mdate_fin\u001b[49m\u001b[38;5;241;43m=\u001b[39;49m\u001b[43mformated_fin_time\u001b[49m\n\u001b[1;32m     12\u001b[0m \u001b[43m        \u001b[49m\u001b[43m)\u001b[49m\n\u001b[1;32m     13\u001b[0m         \u001b[38;5;28;01mbreak\u001b[39;00m\n\u001b[1;32m     14\u001b[0m     \u001b[38;5;66;03m# except (ElementNotInteractableException, NoSuchElementException, TimeoutException, ElementClickInterceptedException):\u001b[39;00m\n\u001b[1;32m     15\u001b[0m     \u001b[38;5;66;03m#     print(\"Retrying...\")\u001b[39;00m\n\u001b[1;32m     16\u001b[0m     \u001b[38;5;66;03m# except (FileNotFoundError, NoSuchWindowException, UnexpectedAlertPresentException):\u001b[39;00m\n\u001b[1;32m     17\u001b[0m     \u001b[38;5;66;03m#     print(\"No Data\")\u001b[39;00m\n\u001b[1;32m     18\u001b[0m     \u001b[38;5;66;03m#     break\u001b[39;00m\n",
      "File \u001b[0;32m~/master/research_data/dm_project/src/data_extraction.py:285\u001b[0m, in \u001b[0;36mhandle_terms_and_conditions_and_download\u001b[0;34m(path, variable, param, departamento, code, date_ini, date_fin)\u001b[0m\n\u001b[1;32m    282\u001b[0m     \u001b[38;5;28;01mreturn\u001b[39;00m\n\u001b[1;32m    284\u001b[0m \u001b[38;5;28mprint\u001b[39m(\u001b[38;5;124m\"\u001b[39m\u001b[38;5;124mStarting to download the variables.\u001b[39m\u001b[38;5;124m\"\u001b[39m)\n\u001b[0;32m--> 285\u001b[0m \u001b[43mvariable_deparment_and_date_set_up\u001b[49m\u001b[43m(\u001b[49m\u001b[43mdriver\u001b[49m\u001b[43m,\u001b[49m\u001b[43m \u001b[49m\u001b[43mpath\u001b[49m\u001b[43m,\u001b[49m\u001b[43m \u001b[49m\u001b[43mvariable\u001b[49m\u001b[43m,\u001b[49m\u001b[43m \u001b[49m\u001b[43mparam\u001b[49m\u001b[43m,\u001b[49m\u001b[43m \u001b[49m\u001b[43mdepartamento\u001b[49m\u001b[43m,\u001b[49m\u001b[43m \u001b[49m\u001b[43mcode\u001b[49m\u001b[43m,\u001b[49m\u001b[43m \u001b[49m\u001b[43mdate_ini\u001b[49m\u001b[43m,\u001b[49m\u001b[43m \u001b[49m\u001b[43mdate_fin\u001b[49m\u001b[43m,\u001b[49m\u001b[43m \u001b[49m\u001b[43mretries\u001b[49m\u001b[38;5;241;43m=\u001b[39;49m\u001b[38;5;241;43m1\u001b[39;49m\u001b[43m)\u001b[49m\n\u001b[1;32m    286\u001b[0m driver\u001b[38;5;241m.\u001b[39mquit()\n",
      "File \u001b[0;32m~/master/research_data/dm_project/src/data_extraction.py:228\u001b[0m, in \u001b[0;36mvariable_deparment_and_date_set_up\u001b[0;34m(driver, path, variable, param, departamento, code, date_ini, date_fin, retries)\u001b[0m\n\u001b[1;32m    226\u001b[0m         time\u001b[38;5;241m.\u001b[39msleep(\u001b[38;5;241m2\u001b[39m)\n\u001b[1;32m    227\u001b[0m logging\u001b[38;5;241m.\u001b[39merror(\u001b[38;5;124m\"\u001b[39m\u001b[38;5;124mMax retries reached. Failed to complete the download process.\u001b[39m\u001b[38;5;124m\"\u001b[39m)\n\u001b[0;32m--> 228\u001b[0m \u001b[38;5;28;01mraise\u001b[39;00m \u001b[38;5;167;01mException\u001b[39;00m(\u001b[38;5;124m\"\u001b[39m\u001b[38;5;124mMax retries reached. Failed to complete the download process.\u001b[39m\u001b[38;5;124m\"\u001b[39m)\n",
      "\u001b[0;31mException\u001b[0m: Max retries reached. Failed to complete the download process."
     ]
    }
   ],
   "source": [
    "# Retry loop\n",
    "while True:\n",
    "    try:\n",
    "        handle_terms_and_conditions_and_download(\n",
    "            path=\"/Users/gloriacarrascal/master/research_data/dm_project/data/bronze\",\n",
    "            variable=\"Temperatura\",\n",
    "            param='Temperatura máxima diaria',\n",
    "            departamento=\"Atlantico\",\n",
    "            code=\"29035080\",\n",
    "            date_ini=\"01/01/2000\",\n",
    "            date_fin=formated_fin_time\n",
    "        )\n",
    "        break\n",
    "    # except (ElementNotInteractableException, NoSuchElementException, TimeoutException, ElementClickInterceptedException):\n",
    "    #     print(\"Retrying...\")\n",
    "    # except (FileNotFoundError, NoSuchWindowException, UnexpectedAlertPresentException):\n",
    "    #     print(\"No Data\")\n",
    "    #     break\n",
    "    except (ElementNotInteractableException, NoSuchElementException, TimeoutException, ElementClickInterceptedException):\n",
    "\n",
    "            logging.warning(\"Retrying...\")\n",
    "    except (FileNotFoundError, NoSuchWindowException, UnexpectedAlertPresentException):\n",
    "        logging.warning(\"No Data\")\n",
    "        break\n",
    "    except SessionNotCreatedException as e:\n",
    "        logging.error(f\"Session not created: {e}\")\n",
    "        break"
   ]
  },
  {
   "cell_type": "markdown",
   "metadata": {},
   "source": [
    "## Preprocessing"
   ]
  },
  {
   "cell_type": "code",
   "execution_count": 1,
   "metadata": {},
   "outputs": [],
   "source": [
    "# reading report.zip\n",
    "import zipfile\n",
    "import os\n"
   ]
  },
  {
   "cell_type": "code",
   "execution_count": 5,
   "metadata": {},
   "outputs": [
    {
     "data": {
      "text/plain": [
       "'Reporte de información Hidrometeorológica de DHIME generado.zip'"
      ]
     },
     "execution_count": 5,
     "metadata": {},
     "output_type": "execute_result"
    }
   ],
   "source": [
    "base_dir = os.path.abspath(os.path.join(os.getcwd(), '.', '..'))\n",
    "output_path_bronze = os.path.join(base_dir, 'data', 'bronze')\n",
    "file_name = next((f for f in os.listdir(output_path_bronze) if f.endswith('.zip')))\n",
    "\n",
    "file_name"
   ]
  },
  {
   "cell_type": "code",
   "execution_count": null,
   "metadata": {},
   "outputs": [],
   "source": [
    "file_name = next((f for f in os.listdir(output_path_bronze) if f.endswith('.zip')), 'report.zip')"
   ]
  },
  {
   "cell_type": "code",
   "execution_count": null,
   "metadata": {},
   "outputs": [],
   "source": []
  },
  {
   "cell_type": "code",
   "execution_count": null,
   "metadata": {},
   "outputs": [],
   "source": [
    "def extract_zip_file(zip_file_path, extract_to_path):\n",
    "    try:\n",
    "        with zipfile.ZipFile(zip_file_path, 'r') as zip_ref:\n",
    "            zip_ref.extractall(extract_to_path)\n",
    "            print(f\"Extracted content of {zip_file_path} to {extract_to_path}\")\n",
    "    except zipfile.BadZipFile:\n",
    "        print(f'Error: {zip_file_path} is not a valid zip file.')\n",
    "    except Exception as e:\n",
    "        print(f'An error ocurried: {e}')\n",
    "\n",
    "        "
   ]
  },
  {
   "cell_type": "code",
   "execution_count": 1,
   "metadata": {},
   "outputs": [],
   "source": [
    "#define path\n",
    "file_path = \"/Users/gloriacarrascal/master/research_data/dm_project/data/bronze/report.zip\"\n",
    "output_path_bronze = \"/Users/gloriacarrascal/master/research_data/dm_project/data/bronze/\"\n",
    "output_path_silver = \"/Users/gloriacarrascal/master/research_data/dm_project/data/silver/\"\n"
   ]
  },
  {
   "cell_type": "code",
   "execution_count": 2,
   "metadata": {},
   "outputs": [],
   "source": [
    "import preprocessing\n",
    "from preprocessing import filtering_data"
   ]
  },
  {
   "cell_type": "code",
   "execution_count": 3,
   "metadata": {},
   "outputs": [
    {
     "name": "stdout",
     "output_type": "stream",
     "text": [
      "Extracted content of /Users/gloriacarrascal/master/research_data/dm_project/data/bronze/report.zip to /Users/gloriacarrascal/master/research_data/dm_project/data/bronze/\n",
      "['descargaDhime.csv']\n",
      "[      CodigoEstacion                   NombreEstacion     Variable  \\\n",
      "0           29035080  NORMAL MANATI  - AUT [29035080]  TEMPERATURA   \n",
      "1           29035080  NORMAL MANATI  - AUT [29035080]  TEMPERATURA   \n",
      "2           29035080  NORMAL MANATI  - AUT [29035080]  TEMPERATURA   \n",
      "3           29035080  NORMAL MANATI  - AUT [29035080]  TEMPERATURA   \n",
      "4           29035080  NORMAL MANATI  - AUT [29035080]  TEMPERATURA   \n",
      "...              ...                              ...          ...   \n",
      "7171        29035080  NORMAL MANATI  - AUT [29035080]  TEMPERATURA   \n",
      "7172        29035080  NORMAL MANATI  - AUT [29035080]  TEMPERATURA   \n",
      "7173        29035080  NORMAL MANATI  - AUT [29035080]  TEMPERATURA   \n",
      "7174        29035080  NORMAL MANATI  - AUT [29035080]  TEMPERATURA   \n",
      "7175        29035080  NORMAL MANATI  - AUT [29035080]  TEMPERATURA   \n",
      "\n",
      "                      Parametro             Fecha Unidad  Valor  \\\n",
      "0     Temperatura máxima diaria  2000-01-01 00:00   degC   34.2   \n",
      "1     Temperatura máxima diaria  2000-01-02 00:00   degC   33.2   \n",
      "2     Temperatura máxima diaria  2000-01-03 00:00   degC   33.8   \n",
      "3     Temperatura máxima diaria  2000-01-04 00:00   degC   33.2   \n",
      "4     Temperatura máxima diaria  2000-01-05 00:00   degC   33.4   \n",
      "...                         ...               ...    ...    ...   \n",
      "7171  Temperatura máxima diaria  2024-12-01 00:00   degC   33.8   \n",
      "7172  Temperatura máxima diaria  2024-12-02 00:00   degC   34.0   \n",
      "7173  Temperatura máxima diaria  2024-12-03 00:00   degC   34.4   \n",
      "7174  Temperatura máxima diaria  2024-12-04 00:00   degC   34.2   \n",
      "7175  Temperatura máxima diaria  2024-12-05 00:00   degC   34.0   \n",
      "\n",
      "     NivelAprobacion  \n",
      "0         Definitivo  \n",
      "1         Definitivo  \n",
      "2         Definitivo  \n",
      "3         Definitivo  \n",
      "4         Definitivo  \n",
      "...              ...  \n",
      "7171      Preliminar  \n",
      "7172      Preliminar  \n",
      "7173      Preliminar  \n",
      "7174      Preliminar  \n",
      "7175      Preliminar  \n",
      "\n",
      "[7176 rows x 8 columns]]\n",
      "['Definitivo' 'En revisión' 'Preliminar']\n",
      "Columns 'Fecha' and 'Valor' not found in the DataFrame\n"
     ]
    },
    {
     "data": {
      "text/html": [
       "<div>\n",
       "<style scoped>\n",
       "    .dataframe tbody tr th:only-of-type {\n",
       "        vertical-align: middle;\n",
       "    }\n",
       "\n",
       "    .dataframe tbody tr th {\n",
       "        vertical-align: top;\n",
       "    }\n",
       "\n",
       "    .dataframe thead th {\n",
       "        text-align: right;\n",
       "    }\n",
       "</style>\n",
       "<table border=\"1\" class=\"dataframe\">\n",
       "  <thead>\n",
       "    <tr style=\"text-align: right;\">\n",
       "      <th></th>\n",
       "      <th>Fecha</th>\n",
       "      <th>Valor</th>\n",
       "    </tr>\n",
       "  </thead>\n",
       "  <tbody>\n",
       "    <tr>\n",
       "      <th>0</th>\n",
       "      <td>2000-01-01 00:00:00</td>\n",
       "      <td>34.2</td>\n",
       "    </tr>\n",
       "    <tr>\n",
       "      <th>1</th>\n",
       "      <td>2000-01-02 00:00:00</td>\n",
       "      <td>33.2</td>\n",
       "    </tr>\n",
       "    <tr>\n",
       "      <th>2</th>\n",
       "      <td>2000-01-03 00:00:00</td>\n",
       "      <td>33.8</td>\n",
       "    </tr>\n",
       "    <tr>\n",
       "      <th>3</th>\n",
       "      <td>2000-01-04 00:00:00</td>\n",
       "      <td>33.2</td>\n",
       "    </tr>\n",
       "    <tr>\n",
       "      <th>4</th>\n",
       "      <td>2000-01-05 00:00:00</td>\n",
       "      <td>33.4</td>\n",
       "    </tr>\n",
       "    <tr>\n",
       "      <th>...</th>\n",
       "      <td>...</td>\n",
       "      <td>...</td>\n",
       "    </tr>\n",
       "    <tr>\n",
       "      <th>7171</th>\n",
       "      <td>2024-12-01 00:00:00</td>\n",
       "      <td>33.8</td>\n",
       "    </tr>\n",
       "    <tr>\n",
       "      <th>7172</th>\n",
       "      <td>2024-12-02 00:00:00</td>\n",
       "      <td>34.0</td>\n",
       "    </tr>\n",
       "    <tr>\n",
       "      <th>7173</th>\n",
       "      <td>2024-12-03 00:00:00</td>\n",
       "      <td>34.4</td>\n",
       "    </tr>\n",
       "    <tr>\n",
       "      <th>7174</th>\n",
       "      <td>2024-12-04 00:00:00</td>\n",
       "      <td>34.2</td>\n",
       "    </tr>\n",
       "    <tr>\n",
       "      <th>7175</th>\n",
       "      <td>2024-12-05 00:00:00</td>\n",
       "      <td>34.0</td>\n",
       "    </tr>\n",
       "  </tbody>\n",
       "</table>\n",
       "<p>7176 rows × 2 columns</p>\n",
       "</div>"
      ],
      "text/plain": [
       "                    Fecha  Valor\n",
       "0     2000-01-01 00:00:00   34.2\n",
       "1     2000-01-02 00:00:00   33.2\n",
       "2     2000-01-03 00:00:00   33.8\n",
       "3     2000-01-04 00:00:00   33.2\n",
       "4     2000-01-05 00:00:00   33.4\n",
       "...                   ...    ...\n",
       "7171  2024-12-01 00:00:00   33.8\n",
       "7172  2024-12-02 00:00:00   34.0\n",
       "7173  2024-12-03 00:00:00   34.4\n",
       "7174  2024-12-04 00:00:00   34.2\n",
       "7175  2024-12-05 00:00:00   34.0\n",
       "\n",
       "[7176 rows x 2 columns]"
      ]
     },
     "execution_count": 3,
     "metadata": {},
     "output_type": "execute_result"
    }
   ],
   "source": [
    "filtering_data(output_path_bronze, output_path_silver, file_path)"
   ]
  },
  {
   "cell_type": "code",
   "execution_count": null,
   "metadata": {},
   "outputs": [],
   "source": []
  }
 ],
 "metadata": {
  "kernelspec": {
   "display_name": "etl_ideam",
   "language": "python",
   "name": "python3"
  },
  "language_info": {
   "codemirror_mode": {
    "name": "ipython",
    "version": 3
   },
   "file_extension": ".py",
   "mimetype": "text/x-python",
   "name": "python",
   "nbconvert_exporter": "python",
   "pygments_lexer": "ipython3",
   "version": "3.10.15"
  }
 },
 "nbformat": 4,
 "nbformat_minor": 2
}
