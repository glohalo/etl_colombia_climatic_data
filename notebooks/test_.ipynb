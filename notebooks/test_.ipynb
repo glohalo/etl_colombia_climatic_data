{
 "cells": [
  {
   "cell_type": "code",
   "execution_count": 1,
   "metadata": {},
   "outputs": [],
   "source": [
    "import time\n",
    "import os\n",
    "import subprocess\n",
    "import pandas as pd\n",
    "\n",
    "import variables\n",
    "from datetime import timedelta, datetime\n",
    "from selenium import webdriver\n",
    "from selenium.webdriver.common.by import By\n",
    "from selenium.webdriver.support.ui import WebDriverWait\n",
    "from selenium.webdriver.support import expected_conditions as EC\n",
    "from selenium.common.exceptions import (\n",
    "    ElementNotInteractableException,\n",
    "    NoSuchElementException,\n",
    "    TimeoutException,\n",
    "    ElementClickInterceptedException,\n",
    "   # FileNotFoundError,\n",
    "    NoSuchWindowException,\n",
    "    UnexpectedAlertPresentException,\n",
    "    SessionNotCreatedException\n",
    ")\n",
    "from zipfile import ZipFile\n",
    "from variables import Variables\n",
    "import logging\n",
    "# Configure logging\n",
    "logging.basicConfig(level=logging.INFO, format='%(asctime)s - %(levelname)s - %(message)s')\n"
   ]
  },
  {
   "cell_type": "code",
   "execution_count": 2,
   "metadata": {},
   "outputs": [
    {
     "data": {
      "text/plain": [
       "'05/12/2024'"
      ]
     },
     "execution_count": 2,
     "metadata": {},
     "output_type": "execute_result"
    }
   ],
   "source": [
    "import extraction\n",
    "from extraction import DHIME_Download\n",
    "current = datetime.today()\n",
    "_= current - timedelta(days = 20)\n",
    "formated_fin_time = _.strftime(\"%d/%m/%Y\")\n",
    "formated_fin_time"
   ]
  },
  {
   "cell_type": "code",
   "execution_count": 4,
   "metadata": {},
   "outputs": [
    {
     "name": "stdout",
     "output_type": "stream",
     "text": [
      "Initializing the Safari driver...\n",
      "Waiting for the checkbox (Términos y condiciones) to be clickable...\n"
     ]
    },
    {
     "name": "stderr",
     "output_type": "stream",
     "text": [
      "2024-12-25 17:37:51,442 - INFO - Starting hydrometeorological data download process.\n",
      "2024-12-25 17:37:51,461 - INFO - Selecting variable.\n"
     ]
    },
    {
     "name": "stdout",
     "output_type": "stream",
     "text": [
      "Checkbox displayed: True, enabled: True\n",
      "Checkbox clicked successfully using JavaScript.\n",
      "'Aceptar' button displayed: True, enabled: True\n",
      "'Aceptar' button clicked successfully using  JavaScript.\n",
      "Terms accepted successfully...\n",
      "Starting to download the variables.\n",
      "Selected variable: Temperatura\n"
     ]
    },
    {
     "name": "stderr",
     "output_type": "stream",
     "text": [
      "2024-12-25 17:37:58,655 - INFO - Step 3: Selecting parameter.\n",
      "2024-12-25 17:38:00,265 - INFO - Selected parameter: Temperatura máxima diaria\n",
      "2024-12-25 17:38:01,333 - INFO - Step 4: Selecting department.\n",
      "2024-12-25 17:38:03,457 - INFO - Selected department: Atlantico\n",
      "2024-12-25 17:38:04,482 - INFO - Clicking the 'Filtrar' button.\n",
      "2024-12-25 17:38:04,533 - INFO - Clicked the 'Filtrar' button.\n",
      "2024-12-25 17:38:06,634 - INFO - Code wrote: 29035080\n",
      "2024-12-25 17:38:07,671 - INFO - Selected checkbox for station code: 29035080\n",
      "2024-12-25 17:38:08,700 - INFO - Step 7: Setting the date\n",
      "2024-12-25 17:38:08,838 - INFO - Set date range: 01/01/2000 to 05/12/2024\n",
      "2024-12-25 17:38:08,840 - INFO - Step 8: Agregar la consulta\n",
      "2024-12-25 17:38:10,932 - INFO - Step 9: Select CSV format.\n",
      "2024-12-25 17:38:11,862 - INFO - Download initiated.\n",
      "2024-12-25 17:38:40,905 - INFO - Ensuring the downloaded file is stored correctly.\n",
      "2024-12-25 17:38:40,912 - INFO - File stored at: /Users/gloriacarrascal/master/research_data/dm_project/data/report.zip\n",
      "2024-12-25 17:38:40,913 - INFO - Data download and processing completed successfully.\n"
     ]
    },
    {
     "name": "stdout",
     "output_type": "stream",
     "text": [
      "Data download and processing completed successfully.\n"
     ]
    },
    {
     "name": "stderr",
     "output_type": "stream",
     "text": [
      "2024-12-25 17:38:42,860 - WARNING - Retrying (Retry(total=2, connect=None, read=None, redirect=None, status=None)) after connection broken by 'NewConnectionError('<urllib3.connection.HTTPConnection object at 0x119214760>: Failed to establish a new connection: [Errno 61] Connection refused')': /session/8FFE6AAD-D899-4AE8-AE41-786F1F4C5DCE\n",
      "2024-12-25 17:38:42,866 - WARNING - Retrying (Retry(total=1, connect=None, read=None, redirect=None, status=None)) after connection broken by 'NewConnectionError('<urllib3.connection.HTTPConnection object at 0x119215a50>: Failed to establish a new connection: [Errno 61] Connection refused')': /session/8FFE6AAD-D899-4AE8-AE41-786F1F4C5DCE\n",
      "2024-12-25 17:38:42,868 - WARNING - Retrying (Retry(total=0, connect=None, read=None, redirect=None, status=None)) after connection broken by 'NewConnectionError('<urllib3.connection.HTTPConnection object at 0x119215ae0>: Failed to establish a new connection: [Errno 61] Connection refused')': /session/8FFE6AAD-D899-4AE8-AE41-786F1F4C5DCE\n"
     ]
    }
   ],
   "source": [
    "# Retry loop\n",
    "while True:\n",
    "    try:\n",
    "        DHIME_Download(\n",
    "            path=\"/Users/gloriacarrascal/master/research_data/dm_project/data/bronze\",\n",
    "            variable=\"Temperatura\",\n",
    "            param='Temperatura máxima diaria',\n",
    "            departamento=\"Atlantico\",\n",
    "            code=\"29035080\",\n",
    "            date_ini=\"01/01/2000\",\n",
    "            date_fin=formated_fin_time\n",
    "        )\n",
    "        break\n",
    "    # except (ElementNotInteractableException, NoSuchElementException, TimeoutException, ElementClickInterceptedException):\n",
    "    #     print(\"Retrying...\")\n",
    "    # except (FileNotFoundError, NoSuchWindowException, UnexpectedAlertPresentException):\n",
    "    #     print(\"No Data\")\n",
    "    #     break\n",
    "    except (ElementNotInteractableException, NoSuchElementException, TimeoutException, ElementClickInterceptedException):\n",
    "\n",
    "            logging.warning(\"Retrying...\")\n",
    "    except (FileNotFoundError, NoSuchWindowException, UnexpectedAlertPresentException):\n",
    "        logging.warning(\"No Data\")\n",
    "        break\n",
    "    except SessionNotCreatedException as e:\n",
    "        logging.error(f\"Session not created: {e}\")\n",
    "        break"
   ]
  },
  {
   "cell_type": "markdown",
   "metadata": {},
   "source": [
    "## Preprocessing"
   ]
  },
  {
   "cell_type": "code",
   "execution_count": 2,
   "metadata": {},
   "outputs": [],
   "source": [
    "# reading report.zip\n",
    "import zipfile\n",
    "import os\n"
   ]
  },
  {
   "cell_type": "code",
   "execution_count": null,
   "metadata": {},
   "outputs": [],
   "source": [
    "def extract_zip_file(zip_file_path, extract_to_path):\n",
    "    try:\n",
    "        with zipfile.ZipFile(zip_file_path, 'r') as zip_ref:\n",
    "            zip_ref.extractall(extract_to_path)\n",
    "            print(f\"Extracted content of {zip_file_path} to {extract_to_path}\")\n",
    "    except zipfile.BadZipFile:\n",
    "        print(f'Error: {zip_file_path} is not a valid zip file.')\n",
    "    except Exception as e:\n",
    "        print(f'An error ocurried: {e}')\n",
    "\n",
    "        "
   ]
  },
  {
   "cell_type": "code",
   "execution_count": 1,
   "metadata": {},
   "outputs": [],
   "source": [
    "#define path\n",
    "file_path = \"/Users/gloriacarrascal/master/research_data/dm_project/data/bronze/report.zip\"\n",
    "output_path_bronze = \"/Users/gloriacarrascal/master/research_data/dm_project/data/bronze/\"\n",
    "output_path_silver = \"/Users/gloriacarrascal/master/research_data/dm_project/data/silver/\"\n"
   ]
  },
  {
   "cell_type": "code",
   "execution_count": 2,
   "metadata": {},
   "outputs": [],
   "source": [
    "import preprocessing\n",
    "from preprocessing import filtering_data"
   ]
  },
  {
   "cell_type": "code",
   "execution_count": 3,
   "metadata": {},
   "outputs": [
    {
     "name": "stdout",
     "output_type": "stream",
     "text": [
      "Extracted content of /Users/gloriacarrascal/master/research_data/dm_project/data/bronze/report.zip to /Users/gloriacarrascal/master/research_data/dm_project/data/bronze/\n",
      "['descargaDhime.csv']\n",
      "[      CodigoEstacion                   NombreEstacion     Variable  \\\n",
      "0           29035080  NORMAL MANATI  - AUT [29035080]  TEMPERATURA   \n",
      "1           29035080  NORMAL MANATI  - AUT [29035080]  TEMPERATURA   \n",
      "2           29035080  NORMAL MANATI  - AUT [29035080]  TEMPERATURA   \n",
      "3           29035080  NORMAL MANATI  - AUT [29035080]  TEMPERATURA   \n",
      "4           29035080  NORMAL MANATI  - AUT [29035080]  TEMPERATURA   \n",
      "...              ...                              ...          ...   \n",
      "7171        29035080  NORMAL MANATI  - AUT [29035080]  TEMPERATURA   \n",
      "7172        29035080  NORMAL MANATI  - AUT [29035080]  TEMPERATURA   \n",
      "7173        29035080  NORMAL MANATI  - AUT [29035080]  TEMPERATURA   \n",
      "7174        29035080  NORMAL MANATI  - AUT [29035080]  TEMPERATURA   \n",
      "7175        29035080  NORMAL MANATI  - AUT [29035080]  TEMPERATURA   \n",
      "\n",
      "                      Parametro             Fecha Unidad  Valor  \\\n",
      "0     Temperatura máxima diaria  2000-01-01 00:00   degC   34.2   \n",
      "1     Temperatura máxima diaria  2000-01-02 00:00   degC   33.2   \n",
      "2     Temperatura máxima diaria  2000-01-03 00:00   degC   33.8   \n",
      "3     Temperatura máxima diaria  2000-01-04 00:00   degC   33.2   \n",
      "4     Temperatura máxima diaria  2000-01-05 00:00   degC   33.4   \n",
      "...                         ...               ...    ...    ...   \n",
      "7171  Temperatura máxima diaria  2024-12-01 00:00   degC   33.8   \n",
      "7172  Temperatura máxima diaria  2024-12-02 00:00   degC   34.0   \n",
      "7173  Temperatura máxima diaria  2024-12-03 00:00   degC   34.4   \n",
      "7174  Temperatura máxima diaria  2024-12-04 00:00   degC   34.2   \n",
      "7175  Temperatura máxima diaria  2024-12-05 00:00   degC   34.0   \n",
      "\n",
      "     NivelAprobacion  \n",
      "0         Definitivo  \n",
      "1         Definitivo  \n",
      "2         Definitivo  \n",
      "3         Definitivo  \n",
      "4         Definitivo  \n",
      "...              ...  \n",
      "7171      Preliminar  \n",
      "7172      Preliminar  \n",
      "7173      Preliminar  \n",
      "7174      Preliminar  \n",
      "7175      Preliminar  \n",
      "\n",
      "[7176 rows x 8 columns]]\n",
      "['Definitivo' 'En revisión' 'Preliminar']\n",
      "Columns 'Fecha' and 'Valor' not found in the DataFrame\n"
     ]
    },
    {
     "data": {
      "text/html": [
       "<div>\n",
       "<style scoped>\n",
       "    .dataframe tbody tr th:only-of-type {\n",
       "        vertical-align: middle;\n",
       "    }\n",
       "\n",
       "    .dataframe tbody tr th {\n",
       "        vertical-align: top;\n",
       "    }\n",
       "\n",
       "    .dataframe thead th {\n",
       "        text-align: right;\n",
       "    }\n",
       "</style>\n",
       "<table border=\"1\" class=\"dataframe\">\n",
       "  <thead>\n",
       "    <tr style=\"text-align: right;\">\n",
       "      <th></th>\n",
       "      <th>Fecha</th>\n",
       "      <th>Valor</th>\n",
       "    </tr>\n",
       "  </thead>\n",
       "  <tbody>\n",
       "    <tr>\n",
       "      <th>0</th>\n",
       "      <td>2000-01-01 00:00:00</td>\n",
       "      <td>34.2</td>\n",
       "    </tr>\n",
       "    <tr>\n",
       "      <th>1</th>\n",
       "      <td>2000-01-02 00:00:00</td>\n",
       "      <td>33.2</td>\n",
       "    </tr>\n",
       "    <tr>\n",
       "      <th>2</th>\n",
       "      <td>2000-01-03 00:00:00</td>\n",
       "      <td>33.8</td>\n",
       "    </tr>\n",
       "    <tr>\n",
       "      <th>3</th>\n",
       "      <td>2000-01-04 00:00:00</td>\n",
       "      <td>33.2</td>\n",
       "    </tr>\n",
       "    <tr>\n",
       "      <th>4</th>\n",
       "      <td>2000-01-05 00:00:00</td>\n",
       "      <td>33.4</td>\n",
       "    </tr>\n",
       "    <tr>\n",
       "      <th>...</th>\n",
       "      <td>...</td>\n",
       "      <td>...</td>\n",
       "    </tr>\n",
       "    <tr>\n",
       "      <th>7171</th>\n",
       "      <td>2024-12-01 00:00:00</td>\n",
       "      <td>33.8</td>\n",
       "    </tr>\n",
       "    <tr>\n",
       "      <th>7172</th>\n",
       "      <td>2024-12-02 00:00:00</td>\n",
       "      <td>34.0</td>\n",
       "    </tr>\n",
       "    <tr>\n",
       "      <th>7173</th>\n",
       "      <td>2024-12-03 00:00:00</td>\n",
       "      <td>34.4</td>\n",
       "    </tr>\n",
       "    <tr>\n",
       "      <th>7174</th>\n",
       "      <td>2024-12-04 00:00:00</td>\n",
       "      <td>34.2</td>\n",
       "    </tr>\n",
       "    <tr>\n",
       "      <th>7175</th>\n",
       "      <td>2024-12-05 00:00:00</td>\n",
       "      <td>34.0</td>\n",
       "    </tr>\n",
       "  </tbody>\n",
       "</table>\n",
       "<p>7176 rows × 2 columns</p>\n",
       "</div>"
      ],
      "text/plain": [
       "                    Fecha  Valor\n",
       "0     2000-01-01 00:00:00   34.2\n",
       "1     2000-01-02 00:00:00   33.2\n",
       "2     2000-01-03 00:00:00   33.8\n",
       "3     2000-01-04 00:00:00   33.2\n",
       "4     2000-01-05 00:00:00   33.4\n",
       "...                   ...    ...\n",
       "7171  2024-12-01 00:00:00   33.8\n",
       "7172  2024-12-02 00:00:00   34.0\n",
       "7173  2024-12-03 00:00:00   34.4\n",
       "7174  2024-12-04 00:00:00   34.2\n",
       "7175  2024-12-05 00:00:00   34.0\n",
       "\n",
       "[7176 rows x 2 columns]"
      ]
     },
     "execution_count": 3,
     "metadata": {},
     "output_type": "execute_result"
    }
   ],
   "source": [
    "filtering_data(output_path_bronze, output_path_silver, file_path)"
   ]
  },
  {
   "cell_type": "code",
   "execution_count": null,
   "metadata": {},
   "outputs": [],
   "source": []
  }
 ],
 "metadata": {
  "kernelspec": {
   "display_name": "etl_ideam",
   "language": "python",
   "name": "python3"
  },
  "language_info": {
   "codemirror_mode": {
    "name": "ipython",
    "version": 3
   },
   "file_extension": ".py",
   "mimetype": "text/x-python",
   "name": "python",
   "nbconvert_exporter": "python",
   "pygments_lexer": "ipython3",
   "version": "3.10.15"
  }
 },
 "nbformat": 4,
 "nbformat_minor": 2
}
